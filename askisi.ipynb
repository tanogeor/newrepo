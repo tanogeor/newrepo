{
  "nbformat": 4,
  "nbformat_minor": 0,
  "metadata": {
    "colab": {
      "name": "askisi.ipynb",
      "provenance": [],
      "collapsed_sections": [],
      "authorship_tag": "ABX9TyMUizDf+dnOF4ImdCYgNzNH",
      "include_colab_link": true
    },
    "kernelspec": {
      "name": "python3",
      "display_name": "Python 3"
    }
  },
  "cells": [
    {
      "cell_type": "markdown",
      "metadata": {
        "id": "view-in-github",
        "colab_type": "text"
      },
      "source": [
        "<a href=\"https://colab.research.google.com/github/tanogeor/newrepo/blob/master/askisi.ipynb\" target=\"_parent\"><img src=\"https://colab.research.google.com/assets/colab-badge.svg\" alt=\"Open In Colab\"/></a>"
      ]
    },
    {
      "cell_type": "markdown",
      "metadata": {
        "id": "517XWw0iycVw"
      },
      "source": [
        "1. Read the file in python"
      ]
    },
    {
      "cell_type": "code",
      "metadata": {
        "id": "j_D_KMxkZQfN"
      },
      "source": [
        "with open('data.csv', 'r') as file:\n",
        "    ls = file.readlines()\n",
        "    ls = [row.split(',') for row in ls]\n",
        "    "
      ],
      "execution_count": 3,
      "outputs": []
    },
    {
      "cell_type": "code",
      "metadata": {
        "id": "FsybI3MHyWNF"
      },
      "source": [
        "for i in range(len(ls)):\n",
        "    ls[i][13] = ls[i][13].replace('\\n','')"
      ],
      "execution_count": 4,
      "outputs": []
    },
    {
      "cell_type": "code",
      "metadata": {
        "id": "IxnP8TZ-sVkm"
      },
      "source": [
        "for j in range(len(ls[i])):\n",
        "  for i in range(len(ls)):\n",
        "    ls[i][j] = (float(ls[i][j]))\n"
      ],
      "execution_count": 5,
      "outputs": []
    },
    {
      "cell_type": "markdown",
      "metadata": {
        "id": "OxyET6Qbyo2f"
      },
      "source": [
        "2. Answer the following questions"
      ]
    },
    {
      "cell_type": "markdown",
      "metadata": {
        "id": "tZDWAgOqy8E1"
      },
      "source": [
        "  2.1 Rows of the dataset"
      ]
    },
    {
      "cell_type": "code",
      "metadata": {
        "colab": {
          "base_uri": "https://localhost:8080/"
        },
        "id": "i_-jvxVSwm8f",
        "outputId": "b6115961-a8d3-497b-a40e-a102a5e0ec11"
      },
      "source": [
        "len(ls)"
      ],
      "execution_count": 6,
      "outputs": [
        {
          "output_type": "execute_result",
          "data": {
            "text/plain": [
              "178"
            ]
          },
          "metadata": {
            "tags": []
          },
          "execution_count": 6
        }
      ]
    },
    {
      "cell_type": "markdown",
      "metadata": {
        "id": "e7eDg7J23F67"
      },
      "source": [
        "2.2 Columns of the dataset"
      ]
    },
    {
      "cell_type": "code",
      "metadata": {
        "colab": {
          "base_uri": "https://localhost:8080/"
        },
        "id": "FuV99MeAwm4V",
        "outputId": "92da1f02-45e3-4c48-c6e6-e9c69c03d0ca"
      },
      "source": [
        "len(ls[0])"
      ],
      "execution_count": 7,
      "outputs": [
        {
          "output_type": "execute_result",
          "data": {
            "text/plain": [
              "14"
            ]
          },
          "metadata": {
            "tags": []
          },
          "execution_count": 7
        }
      ]
    },
    {
      "cell_type": "markdown",
      "metadata": {
        "id": "p_s8-FIVyv7N"
      },
      "source": [
        "3. Compute the mean of each column"
      ]
    },
    {
      "cell_type": "code",
      "metadata": {
        "colab": {
          "base_uri": "https://localhost:8080/"
        },
        "id": "2gyBzfofwm1v",
        "outputId": "9dae8a29-ca24-41d3-933c-cf3762160ea8"
      },
      "source": [
        "sum = list(range(len(ls[1])))\n",
        "\n",
        "for j in range(len(ls[i])):\n",
        "  for i in range(len(ls)):\n",
        "    sum[j] = sum[j] + ls[i][j]\n",
        "\n",
        "mean = list(range(len(sum)))\n",
        "\n",
        "for i in range(len(sum)):\n",
        "  mean[i] = sum[i]/(len(ls))\n",
        "  print('Mean of column number:{} is {}'.format(i,mean[i]))"
      ],
      "execution_count": 8,
      "outputs": [
        {
          "output_type": "stream",
          "text": [
            "Mean of column number:0 is 1.9382022471910112\n",
            "Mean of column number:1 is 13.006235955056173\n",
            "Mean of column number:2 is 2.347584269662921\n",
            "Mean of column number:3 is 2.383370786516855\n",
            "Mean of column number:4 is 19.517415730337078\n",
            "Mean of column number:5 is 99.76966292134831\n",
            "Mean of column number:6 is 2.3288202247191014\n",
            "Mean of column number:7 is 2.068595505617977\n",
            "Mean of column number:8 is 0.406797752808989\n",
            "Mean of column number:9 is 1.6414606741573043\n",
            "Mean of column number:10 is 5.114269657303372\n",
            "Mean of column number:11 is 1.0192471910112355\n",
            "Mean of column number:12 is 2.679101123595504\n",
            "Mean of column number:13 is 746.9662921348314\n"
          ],
          "name": "stdout"
        }
      ]
    },
    {
      "cell_type": "markdown",
      "metadata": {
        "id": "6IZD6SXoy2HU"
      },
      "source": [
        "4. Compute the variance of each column"
      ]
    },
    {
      "cell_type": "code",
      "metadata": {
        "colab": {
          "base_uri": "https://localhost:8080/"
        },
        "id": "vUVHiEF5wmx4",
        "outputId": "4525ba2e-d76c-40ac-eefa-cc20cb460ebc"
      },
      "source": [
        "# Compute the variance of each column\n",
        "var = list(range(len(ls[1])))\n",
        "x = list(range(len(ls)))\n",
        "\n",
        "for j in range(len(ls[i])): # 14 στήλες\n",
        "  for i in range(len(ls)):  # 178 γραμμές\n",
        "    x[i] = ((ls[i][j] - mean[j])**2)\n",
        "    sum[j] = sum[j] + x[i]\n",
        "  var[j] = sum[j] / len(ls)\n",
        "  print('Variance of column number:{} is {}'.format(j,var[j]))"
      ],
      "execution_count": 9,
      "outputs": [
        {
          "output_type": "stream",
          "text": [
            "Variance of column number:0 is 2.5355068804443874\n",
            "Variance of column number:1 is 13.661627247190998\n",
            "Variance of column number:2 is 3.588714597273071\n",
            "Variance of column number:3 is 2.4584966418381504\n",
            "Variance of column number:4 is 30.607951331902527\n",
            "Variance of column number:5 is 302.61377982577926\n",
            "Variance of column number:6 is 2.7194454772124708\n",
            "Variance of column number:7 is 3.0622555390733504\n",
            "Variance of column number:8 is 0.42421931889913106\n",
            "Variance of column number:9 is 1.9697714177502854\n",
            "Variance of column number:10 is 10.461681672083076\n",
            "Variance of column number:11 is 1.0750176029541738\n",
            "Variance of column number:12 is 3.1849004671127337\n",
            "Variance of column number:13 is 99356.57259184448\n"
          ],
          "name": "stdout"
        }
      ]
    },
    {
      "cell_type": "markdown",
      "metadata": {
        "id": "zEf1aCQZ3hUj"
      },
      "source": [
        "5. Compute the median of each column"
      ]
    },
    {
      "cell_type": "code",
      "metadata": {
        "id": "3NYEh0T5_pcE",
        "colab": {
          "base_uri": "https://localhost:8080/"
        },
        "outputId": "942860a4-e9ae-4fda-ce89-db01f8b80cae"
      },
      "source": [
        "for i in range(len(ls)):\n",
        "  print(ls[i][1])"
      ],
      "execution_count": 10,
      "outputs": [
        {
          "output_type": "stream",
          "text": [
            "14.23\n",
            "13.2\n",
            "13.16\n",
            "14.37\n",
            "13.24\n",
            "14.2\n",
            "14.39\n",
            "14.06\n",
            "14.83\n",
            "13.86\n",
            "14.1\n",
            "14.12\n",
            "13.75\n",
            "14.75\n",
            "14.38\n",
            "13.63\n",
            "14.3\n",
            "13.83\n",
            "14.19\n",
            "13.64\n",
            "14.06\n",
            "12.93\n",
            "13.71\n",
            "12.85\n",
            "13.5\n",
            "13.05\n",
            "13.39\n",
            "13.3\n",
            "13.87\n",
            "14.02\n",
            "13.73\n",
            "13.58\n",
            "13.68\n",
            "13.76\n",
            "13.51\n",
            "13.48\n",
            "13.28\n",
            "13.05\n",
            "13.07\n",
            "14.22\n",
            "13.56\n",
            "13.41\n",
            "13.88\n",
            "13.24\n",
            "13.05\n",
            "14.21\n",
            "14.38\n",
            "13.9\n",
            "14.1\n",
            "13.94\n",
            "13.05\n",
            "13.83\n",
            "13.82\n",
            "13.77\n",
            "13.74\n",
            "13.56\n",
            "14.22\n",
            "13.29\n",
            "13.72\n",
            "12.37\n",
            "12.33\n",
            "12.64\n",
            "13.67\n",
            "12.37\n",
            "12.17\n",
            "12.37\n",
            "13.11\n",
            "12.37\n",
            "13.34\n",
            "12.21\n",
            "12.29\n",
            "13.86\n",
            "13.49\n",
            "12.99\n",
            "11.96\n",
            "11.66\n",
            "13.03\n",
            "11.84\n",
            "12.33\n",
            "12.7\n",
            "12.0\n",
            "12.72\n",
            "12.08\n",
            "13.05\n",
            "11.84\n",
            "12.67\n",
            "12.16\n",
            "11.65\n",
            "11.64\n",
            "12.08\n",
            "12.08\n",
            "12.0\n",
            "12.69\n",
            "12.29\n",
            "11.62\n",
            "12.47\n",
            "11.81\n",
            "12.29\n",
            "12.37\n",
            "12.29\n",
            "12.08\n",
            "12.6\n",
            "12.34\n",
            "11.82\n",
            "12.51\n",
            "12.42\n",
            "12.25\n",
            "12.72\n",
            "12.22\n",
            "11.61\n",
            "11.46\n",
            "12.52\n",
            "11.76\n",
            "11.41\n",
            "12.08\n",
            "11.03\n",
            "11.82\n",
            "12.42\n",
            "12.77\n",
            "12.0\n",
            "11.45\n",
            "11.56\n",
            "12.42\n",
            "13.05\n",
            "11.87\n",
            "12.07\n",
            "12.43\n",
            "11.79\n",
            "12.37\n",
            "12.04\n",
            "12.86\n",
            "12.88\n",
            "12.81\n",
            "12.7\n",
            "12.51\n",
            "12.6\n",
            "12.25\n",
            "12.53\n",
            "13.49\n",
            "12.84\n",
            "12.93\n",
            "13.36\n",
            "13.52\n",
            "13.62\n",
            "12.25\n",
            "13.16\n",
            "13.88\n",
            "12.87\n",
            "13.32\n",
            "13.08\n",
            "13.5\n",
            "12.79\n",
            "13.11\n",
            "13.23\n",
            "12.58\n",
            "13.17\n",
            "13.84\n",
            "12.45\n",
            "14.34\n",
            "13.48\n",
            "12.36\n",
            "13.69\n",
            "12.85\n",
            "12.96\n",
            "13.78\n",
            "13.73\n",
            "13.45\n",
            "12.82\n",
            "13.58\n",
            "13.4\n",
            "12.2\n",
            "12.77\n",
            "14.16\n",
            "13.71\n",
            "13.4\n",
            "13.27\n",
            "13.17\n",
            "14.13\n"
          ],
          "name": "stdout"
        }
      ]
    },
    {
      "cell_type": "code",
      "metadata": {
        "id": "2wPfn8Szwmv8"
      },
      "source": [
        "for j in range(len(ls[i])): \n",
        "  for i in range(len(ls)): \n",
        "      for n in range(i+1, len(ls)): \n",
        "        if ls[i][j] < ls[n][j]:\n",
        "          ls[i][j], ls[n][j] = ls[n][j], ls[i][j]\n",
        "          \n",
        "          \n",
        "#          y = ls[i][j]\n",
        " #         ls[i][j] = ls[i-1][j]\n",
        "  #        ls[i-1][j] = y\n",
        "          "
      ],
      "execution_count": 11,
      "outputs": []
    },
    {
      "cell_type": "code",
      "metadata": {
        "colab": {
          "base_uri": "https://localhost:8080/"
        },
        "id": "UYx652TC_k19",
        "outputId": "2e987a83-8f92-41a6-8682-3bdbe92baf76"
      },
      "source": [
        "for j in range(len(ls[i])): # 14 στήλες\n",
        "  print('The median of column number:{} is {}'.format(j,ls[89][j]))"
      ],
      "execution_count": 12,
      "outputs": [
        {
          "output_type": "stream",
          "text": [
            "The median of column number:0 is 2.0\n",
            "The median of column number:1 is 13.05\n",
            "The median of column number:2 is 1.86\n",
            "The median of column number:3 is 2.36\n",
            "The median of column number:4 is 19.5\n",
            "The median of column number:5 is 98.0\n",
            "The median of column number:6 is 2.35\n",
            "The median of column number:7 is 2.13\n",
            "The median of column number:8 is 0.34\n",
            "The median of column number:9 is 1.55\n",
            "The median of column number:10 is 4.68\n",
            "The median of column number:11 is 0.96\n",
            "The median of column number:12 is 2.78\n",
            "The median of column number:13 is 672.0\n"
          ],
          "name": "stdout"
        }
      ]
    }
  ]
}